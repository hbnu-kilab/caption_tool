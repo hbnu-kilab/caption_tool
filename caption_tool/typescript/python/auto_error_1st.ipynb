{
 "cells": [
  {
   "cell_type": "markdown",
   "metadata": {},
   "source": [
    "찬우: Output 데이터 양산"
   ]
  },
  {
   "cell_type": "code",
   "execution_count": 2,
   "metadata": {
    "ExecuteTime": {
     "end_time": "2024-09-04T09:41:11.788857Z",
     "start_time": "2024-09-04T09:41:11.737143Z"
    }
   },
   "outputs": [],
   "source": [
    "import json\n",
    "import re\n",
    "from error_dict import dictionary \n",
    "\n",
    "# 대체어 그룹 정의\n",
    "def merge_dicts(*dicts):\n",
    "    merged_dict = {}\n",
    "    for dictionary in dicts:\n",
    "        for key, value in dictionary.items():\n",
    "            if key in merged_dict:\n",
    "                print(key, value)\n",
    "                merged_dict[key].extend(value)\n",
    "            else:\n",
    "                merged_dict[key] = value\n",
    "    return merged_dict\n",
    "\n",
    "replacement_groups = merge_dicts(dictionary)\n",
    "\n",
    "# 정규 표현식 패턴 생성\n",
    "replacement_patterns = {\n",
    "    replacement: re.compile(r\"\\b\" + r\"\\b|\\b\".join(re.escape(term) for term in terms) + r\"\\b\", re.IGNORECASE)\n",
    "    for replacement, terms in replacement_groups.items()\n",
    "}"
   ]
  },
  {
   "cell_type": "code",
   "execution_count": 4,
   "metadata": {
    "ExecuteTime": {
     "end_time": "2024-09-04T09:26:15.480627Z",
     "start_time": "2024-09-04T09:26:15.449332Z"
    }
   },
   "outputs": [
    {
     "data": {
      "text/plain": [
       "['mountain', 'mountains', 'peak', 'hill', 'summit']"
      ]
     },
     "execution_count": 4,
     "metadata": {},
     "output_type": "execute_result"
    }
   ],
   "source": [
    "replacement_groups['산']"
   ]
  },
  {
   "cell_type": "code",
   "execution_count": 6,
   "metadata": {
    "ExecuteTime": {
     "end_time": "2024-09-04T09:36:08.370011Z",
     "start_time": "2024-09-04T09:35:36.386524Z"
    }
   },
   "outputs": [],
   "source": [
    "# JSON 파일 읽기\n",
    "for i in range(10084, 10085): # (각자 구축량 시작점, 각자 구축량 마감개수 + 1) \n",
    "    file_path = f'../front/public/json/outputJson/output_{i}.json' # 수정없이 걍 돌려도 됨\n",
    "    \n",
    "    with open(file_path, 'r', encoding='utf-8') as file:\n",
    "        data = json.load(file)\n",
    "\n",
    "    new_bounding_boxes = data.get('new_bounding_boxes', [])\n",
    "\n",
    "    for box_index, box in enumerate(new_bounding_boxes):\n",
    "        for caption_idx, caption in enumerate(box['captions']):\n",
    "            for errorCaption_idx, errorCaption in enumerate(caption['errorCaption']):\n",
    "                if caption['caption'].strip() == errorCaption.strip():\n",
    "                    for replacement, pattern in replacement_patterns.items():\n",
    "                        if pattern.search(errorCaption.lower()):\n",
    "                            # 대체어로 변경\n",
    "                            new_bounding_boxes[box_index]['captions'][caption_idx]['errorCaption'][errorCaption_idx] = pattern.sub(replacement, errorCaption.lower())\n",
    "                            break\n",
    "\n",
    "    data['new_bounding_boxes'] = new_bounding_boxes\n",
    "    \n",
    "    with open(file_path, 'w', encoding='utf-8') as f:\n",
    "        json.dump(data, f, indent=4)"
   ]
  },
  {
   "cell_type": "markdown",
   "metadata": {},
   "source": [
    "# 복구"
   ]
  },
  {
   "cell_type": "code",
   "execution_count": 8,
   "metadata": {
    "ExecuteTime": {
     "end_time": "2024-09-03T06:25:32.674990Z",
     "start_time": "2024-09-03T06:25:32.653204Z"
    }
   },
   "outputs": [],
   "source": [
    "# wrong_dict\n",
    "wrong_dict = {\n",
    "                'crape': ['ripples'],\n",
    "    'young': ['japanese macaque'],\n",
    "                'ripples': ['crape'],\n",
    "                'cartoon': ['magazine', 'magazines'],\n",
    "                'palm': ['fist', 'knuckles', 'punch'],\n",
    "                'small bag': ['pocketbook', 'purse', 'wallet'],\n",
    "                'beads': ['pearl', 'pearls'],\n",
    "                'sawdust pile': ['bales'],\n",
    "                'boat': ['ca', 'van', 'vehicle', 'vehicles'],\n",
    "                'tent': ['awning', 'awnings'],\n",
    "                'torch': ['candle', 'candles', 'second'],\n",
    "                'hair': ['prong', 'prongs'],\n",
    "                'meeting': ['conference'],\n",
    "                'scissors': ['cutter', 'knife', 'knifes', 'knives'],\n",
    "                'party list': ['minutes'],\n",
    "                'warehouse': ['shop', 'shops', 'store'],\n",
    "                'wooden fence': ['guardrail'],\n",
    "                'jacket': ['cardigan'],\n",
    "                'bar': ['karaoke'],\n",
    "                'iron pole': ['spruce'],\n",
    "                'plastic bag': ['bag', 'bags', 'satchel'],\n",
    "                'audience': ['singer'],\n",
    "                'firewood': ['burners', 'stove', 'burner'],\n",
    "                'casual': ['gown', 'robe'],\n",
    "                'blade': ['brim', 'brims', 'edge', 'edges', 'fringe', 'verge'],\n",
    "                'friends': ['household', 'family'],\n",
    "                'stick, wand': ['boughs', 'branch', 'branches', 'eggplant', 'sprig', 'tine'],\n",
    "                'pet': ['livestock'],\n",
    "                'meal': ['snack', 'snacks'],\n",
    "                'sofa': ['cot'],\n",
    "                'road sign': ['signboard'],\n",
    "                'hanger': ['hooks'],\n",
    "                'rice': ['reed', 'reeds'],\n",
    "                'kite': ['gull', 'parachute', 'kite', 'kites'],\n",
    "                'dog chew': ['ribs'],\n",
    "                'yellow': ['brown', 'browns', 'sepia', 'tan'],\n",
    "                'raven hair': ['brunet'],\n",
    "                'fin': ['caudal'],\n",
    "                'snack': ['meal', 'meals'],\n",
    "                'smoke': ['mist'],\n",
    "                'beret': ['hats'],\n",
    "                'hallway': ['hall'],\n",
    "                'circuit': ['parade'],\n",
    "                'hood': ['top'],\n",
    "                'wind turbine': ['substation'],\n",
    "                'bonsai': ['topiary'],\n",
    "                'wood': ['log', 'logs'],\n",
    "                'mushroom': ['truffle'],\n",
    "                'mossy stone': ['rock', 'rocks'],\n",
    "                'calendar': ['plan', 'plans', 'schedule'],\n",
    "                'bread': ['toast'],\n",
    "                'fur': ['hair'],\n",
    "                'building': ['stadium'],\n",
    "                'plate': ['dish'],\n",
    "                'wing': ['feather'],\n",
    "    }"
   ]
  },
  {
   "cell_type": "code",
   "execution_count": null,
   "metadata": {},
   "outputs": [],
   "source": [
    "start_num = 1095\n",
    "end_num = 1459\n",
    "right_words = list(wrong_dict.keys()) # error caption\n",
    "\n",
    "# 잘못된 단어로 변경된 경우 전체 복구 함수\n",
    "def repair_sentence(start_num, end_num, right_word, wrong_word):\n",
    "    def find_differences_using_sets(sentence1, sentence2):\n",
    "        # 문장을 단어 단위로 분리\n",
    "        words1 = set(sentence1.split())\n",
    "        words2 = set(sentence2.split())\n",
    "        \n",
    "        # 차집합을 이용해 서로 다른 단어를 찾음\n",
    "        diff1 = words1 - words2\n",
    "        diff2 = words2 - words1\n",
    "        \n",
    "        return diff1, diff2\n",
    "\n",
    "    # JSON 파일 읽기\n",
    "    for i in range(start_num, end_num): # (각자 구축량 시작점, 각자 구축량 마감개수 + 1) \n",
    "        file_path = f'../front/public/json/outputJson/output_{i}.json' # 수정없이 걍 돌려도 됨\n",
    "        \n",
    "        with open(file_path, 'r', encoding='utf-8') as file:\n",
    "            data = json.load(file)\n",
    "\n",
    "        new_bounding_boxes = data.get('new_bounding_boxes', [])\n",
    "        print(i)\n",
    "        for box_index, box in enumerate(new_bounding_boxes):\n",
    "            for caption_idx, caption in enumerate(box['captions']):\n",
    "                for errorCaption_idx, errorCaption in enumerate(caption['errorCaption']):\n",
    "                    \n",
    "                    if caption['caption'].strip() != errorCaption.strip():\n",
    "                        if re.search(rf'\\b{wrong_word}\\b', errorCaption.lower()):\n",
    "                            if re.search(rf'\\b{right_word}\\b', caption['caption'].strip().lower()):\n",
    "                                # 대체어로 변경\n",
    "                                origin = new_bounding_boxes[box_index]['captions'][caption_idx]['caption']\n",
    "                                print(origin)\n",
    "                                modified = new_bounding_boxes[box_index]['captions'][caption_idx]['errorCaption'][errorCaption_idx] \n",
    "                                print(modified)\n",
    "                                new_bounding_boxes[box_index]['captions'][caption_idx]['errorCaption'][errorCaption_idx]  = origin#= pattern.sub(replacement, errorCaption.lower())\n",
    "                                diffs1, diffs2 = find_differences_using_sets(origin, modified)\n",
    "                                print(f\"Sentence 1 has unique words: {diffs1}\")\n",
    "                                print(f\"Sentence 2 has unique words: {diffs2}\")\n",
    "\n",
    "\n",
    "        data['new_bounding_boxes'] = new_bounding_boxes\n",
    "        \n",
    "        with open(file_path, 'w', encoding='utf-8') as f:\n",
    "            json.dump(data, f, indent=4)\n",
    "\n",
    "\n",
    "[[repair_sentence(start_num, end_num, right_word, wrong_word) for wrong_word in wrong_dict[right_word]] for right_word in right_words]"
   ]
  },
  {
   "cell_type": "code",
   "execution_count": null,
   "metadata": {},
   "outputs": [],
   "source": []
  }
 ],
 "metadata": {
  "kernelspec": {
   "display_name": "Python 3",
   "language": "python",
   "name": "python3"
  },
  "language_info": {
   "codemirror_mode": {
    "name": "ipython",
    "version": 3
   },
   "file_extension": ".py",
   "mimetype": "text/x-python",
   "name": "python",
   "nbconvert_exporter": "python",
   "pygments_lexer": "ipython3",
   "version": "3.11.4"
  }
 },
 "nbformat": 4,
 "nbformat_minor": 2
}
