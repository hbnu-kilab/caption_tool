{
 "cells": [
  {
   "cell_type": "code",
   "execution_count": 1,
   "metadata": {},
   "outputs": [
    {
     "name": "stderr",
     "output_type": "stream",
     "text": [
      "ERROR: Could not find a version that satisfies the requirement numpy.f2py.crackfortran (from versions: none)\n",
      "ERROR: No matching distribution found for numpy.f2py.crackfortran\n",
      "\n",
      "[notice] A new release of pip is available: 24.1.1 -> 24.3.1\n",
      "[notice] To update, run: python.exe -m pip install --upgrade pip\n"
     ]
    }
   ],
   "source": [
    "!pip install numpy.f2py.crackfortran"
   ]
  },
  {
   "cell_type": "code",
   "execution_count": 4,
   "metadata": {},
   "outputs": [
    {
     "name": "stdout",
     "output_type": "stream",
     "text": [
      "37: 'On the right, a printer and tissue box form a practical duo. The printer, ready for use, is accompanied by tissues, suggesting a well-prepared office space for both printing tasks and personal comfort.'\n",
      "114: 'The image shows a blue box placed on a dock, surrounded by various fishing equipment. Nearby, a red ball rests on the ground, adding a splash of color to the scene by the waterfront.'\n",
      "536: 'a delicious pizza topped with tomato and pepperoni, emphasizing the vibrant ingredients. This region contrasts with the surrounding cardboard box, creating a focal point that draws attention to the pizza's appetizing appearance.'\n",
      "634: 'The image capture the house's architectural features, including its red windows and gray mailboxes. These elements emphasize the building's character, showcasing a blend of traditional and modern design elements.'\n",
      "1083: 'The vibrant market setting is captured, featuring fresh green limes and stacked boxes. This combination showcases the lively commerce and abundance of produce available in the vicinity.'\n",
      "1499: 'The top shelf features a vibrant display of breakfast items, including corn flakes and orange juice. The cereal boxes, adorned with colorful graphics, sit beside the juice gallons, creating a lively morning scene.'\n",
      "1932: 'The image captures the cat alongside a suitcase and box, suggesting a playful or travel-related theme. The juxtaposition of the cat's natural curiosity with the structured objects creates an intriguing visual narrative.'\n"
     ]
    }
   ],
   "source": [
    "# human_annotation 에 색상에 관련된 문장이 있는지 출력하는 코드\n",
    "\n",
    "import json\n",
    "import os\n",
    "\n",
    "colors = [\n",
    "    \"red\", \"orange\", \"yellow\", \"lime\", \"green\", \"aqua\", \"blue\", \"navy\", \"1.\", \"2.\", \"3.\"\n",
    "]\n",
    "\n",
    "# 다 안됨ㅠㅠ\n",
    "김슬기 = \"[2365~3374]김슬기\"\n",
    "김다빈 = \"[4607~5222]김다빈\"\n",
    "박우진 = \"[3375~3990]박우진\"\n",
    "김연주 = \"[3991~4606]김연주\"\n",
    "김수안 = \"[5223~5837]김수안\"\n",
    "엄기원 = \"[5839~6454]엄기원\"\n",
    "\n",
    "강유진=\"[9628~9848]강유진\"\n",
    "박현수=\"[10733~10953]박현수\"\n",
    "송채린=\"[9186~9406]송채린\"\n",
    "이경림=\"[8744~8964]이경림\"\n",
    "임미란=\"[9849~10069]임미란\"\n",
    "정준영=\"[11175~11395]정준영\"\n",
    "하태광=\"[10954~11174]하태광\"\n",
    "정재혁=\"[9407~9627]정재혁\"\n",
    "이수인=\"[10291~10511]이수인\"\n",
    "\n",
    "# json 파일 이미지 번호\n",
    "for i in range(1, 1+2186):\n",
    "    file_path = f'C:\\\\workplace\\\\Kilab\\\\etri\\\\dataset\\\\취합\\\\학습셋\\\\004_core 작업자 1차 검수 버전\\\\{정재혁}\\\\core_{i}.json'\n",
    "    file_path = f'C:\\\\workplace\\\\Kilab\\\\etri\\\\dataset\\\\취합\\\\평가셋\\\\006_core 데이터 배포 버전\\\\core_{i}.json'\n",
    "    \n",
    "    if not os.path.exists(file_path):\n",
    "        # print(\"파일 없음\", i)\n",
    "        continue\n",
    "    \n",
    "    try:\n",
    "        with open(file_path, 'r', encoding='utf-8') as f:\n",
    "            data = json.load(f)\n",
    "    except:\n",
    "        print(f\"파일 열때 오류: {i}\")\n",
    "    \n",
    "    top_level_id = next(iter(data.keys()), None)\n",
    "    \n",
    "    if top_level_id:\n",
    "        human_annotations = data.get(top_level_id, {}).get(\"relation_centric_regions\", {})\n",
    "        \n",
    "        for annotation in human_annotations:\n",
    "            text = annotation.get(\"human_annotation\", \"\").lower()\n",
    "            \n",
    "            contains_color = any(color in text for color in colors)\n",
    "            contain_word = False\n",
    "            if \"boxes\" in text:\n",
    "                contain_word=True\n",
    "            if \"box\" in text:\n",
    "                contain_word=True\n",
    "            \n",
    "            # 색상 정보를 포함한 경우\n",
    "            # core_data 번호 : human_annitation 문단\n",
    "            if contain_word and contains_color:\n",
    "                print(f\"{i}: '{annotation['human_annotation']}'\")\n",
    "        \n",
    "    else:\n",
    "        print(\"이미지 Id를 찾을 수 없음\")"
   ]
  },
  {
   "cell_type": "code",
   "execution_count": null,
   "metadata": {},
   "outputs": [],
   "source": []
  },
  {
   "cell_type": "code",
   "execution_count": null,
   "metadata": {},
   "outputs": [],
   "source": []
  }
 ],
 "metadata": {
  "kernelspec": {
   "display_name": "Python 3",
   "language": "python",
   "name": "python3"
  },
  "language_info": {
   "codemirror_mode": {
    "name": "ipython",
    "version": 3
   },
   "file_extension": ".py",
   "mimetype": "text/x-python",
   "name": "python",
   "nbconvert_exporter": "python",
   "pygments_lexer": "ipython3",
   "version": "3.11.4"
  }
 },
 "nbformat": 4,
 "nbformat_minor": 2
}
