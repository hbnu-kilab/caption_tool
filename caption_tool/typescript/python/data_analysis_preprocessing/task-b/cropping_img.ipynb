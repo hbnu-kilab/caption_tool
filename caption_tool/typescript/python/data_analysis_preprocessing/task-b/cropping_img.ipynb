{
 "cells": [
  {
   "cell_type": "code",
   "execution_count": 1,
   "metadata": {},
   "outputs": [
    {
     "name": "stdout",
     "output_type": "stream",
     "text": [
      "Requirement already satisfied: pillow in c:\\users\\cksdn\\appdata\\local\\programs\\python\\python311\\lib\\site-packages (10.3.0)\n"
     ]
    },
    {
     "name": "stderr",
     "output_type": "stream",
     "text": [
      "\n",
      "[notice] A new release of pip is available: 24.1.1 -> 24.2\n",
      "[notice] To update, run: python.exe -m pip install --upgrade pip\n"
     ]
    }
   ],
   "source": [
    "!pip install pillow"
   ]
  },
  {
   "cell_type": "code",
   "execution_count": 9,
   "metadata": {},
   "outputs": [
    {
     "name": "stdout",
     "output_type": "stream",
     "text": [
      "크롬 이동 완료\n",
      "로컬 호스트 이동 완료\n",
      "로컬 호스트 이동 완료\n",
      "로컬 호스트 이동 완료\n"
     ]
    }
   ],
   "source": [
    "from selenium import webdriver\n",
    "from selenium.webdriver.chrome.service import Service\n",
    "from selenium.webdriver.chrome.options import Options\n",
    "from webdriver_manager.chrome import ChromeDriverManager\n",
    "from selenium.webdriver.common.by import By\n",
    "from selenium.webdriver.support.ui import WebDriverWait\n",
    "from selenium.webdriver.support import expected_conditions as EC\n",
    "from PIL import Image\n",
    "import time\n",
    "import logging\n",
    "import os\n",
    "\n",
    "chrome_options = Options()\n",
    "chrome_options.add_argument(\"--disable-gpu\")\n",
    "\n",
    "# ChromeDriver 자동 설치 및 실행\n",
    "chrome_options.add_argument(\"user-data-dir=C:/Users/cksdn/AppData/Local/Google/Chrome/User Data/Profile 1\")  # 사용자 경로에 맞게 수정\n",
    "driver = webdriver.Chrome(options=chrome_options) \n",
    "print(\"크롬 이동 완료\")\n",
    "\n",
    "for num in range(86,89):\n",
    "    try:\n",
    "        if os.path.exists(f'../front/public/json/outputJson/output_{num}.json'):\n",
    "            driver.maximize_window()\n",
    "            driver.get(f'http://localhost:3000/capture/{num}')\n",
    "            time.sleep(10)\n",
    "            print(\"로컬 호스트 이동 완료\")\n",
    "            \n",
    "            logging.info(\"Page loaded successfully.\")\n",
    "\n",
    "\n",
    "            # 페이지 로딩을 위해 대기\n",
    "            time.sleep(2)  # Give time for the DOM to update\n",
    "            \n",
    "            button = driver.find_element(By.XPATH, '//*[@id=\"root\"]/div/div[2]/button')\n",
    "            button.click()\n",
    "            time.sleep(2)  # Give time for the DOM to update\n",
    "        else:\n",
    "            print(f\"Error occurred: {num}\") \n",
    "    except Exception as e:\n",
    "        print(f\"Error occurred: {num}\")\n",
    "        \n",
    "driver.quit()"
   ]
  },
  {
   "cell_type": "markdown",
   "metadata": {},
   "source": []
  },
  {
   "cell_type": "code",
   "execution_count": null,
   "metadata": {},
   "outputs": [],
   "source": []
  }
 ],
 "metadata": {
  "kernelspec": {
   "display_name": "Python 3",
   "language": "python",
   "name": "python3"
  },
  "language_info": {
   "codemirror_mode": {
    "name": "ipython",
    "version": 3
   },
   "file_extension": ".py",
   "mimetype": "text/x-python",
   "name": "python",
   "nbconvert_exporter": "python",
   "pygments_lexer": "ipython3",
   "version": "3.11.4"
  }
 },
 "nbformat": 4,
 "nbformat_minor": 2
}
