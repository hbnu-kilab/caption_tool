{
 "cells": [
  {
   "metadata": {
    "collapsed": true,
    "ExecuteTime": {
     "end_time": "2024-11-07T12:34:40.464176Z",
     "start_time": "2024-11-07T12:34:40.393153Z"
    }
   },
   "cell_type": "code",
   "source": [
    "# human_annotation 에 색상에 관련된 문장이 있는지 출력하는 코드\n",
    "\n",
    "import json\n",
    "import os\n",
    "\n",
    "from numpy.f2py.crackfortran import containspattern\n",
    "\n",
    "colors = [\n",
    "    \"red\", \"orange\", \"yellow\", \"lime\", \"green\", \"aqua\", \"blue\", \"navy\"\n",
    "]\n",
    "\n",
    "# json 파일 이미지 번호\n",
    "for i in range(1099, 1913):\n",
    "    file_path = f'../../../front/public/json/coreJson/core_{i}.json'\n",
    "    \n",
    "    if not os.path.exists(file_path):\n",
    "        continue\n",
    "    \n",
    "    with open(file_path, 'r', encoding='utf-8') as f:\n",
    "        data = json.load(f)\n",
    "        \n",
    "    top_level_id = next(iter(data.keys()), None)\n",
    "    \n",
    "    if top_level_id:\n",
    "        human_annotations = data.get(top_level_id, {}).get(\"relation_centric_regions\", {}).get(\"human_annotations\", [])\n",
    "        \n",
    "        for annotation in human_annotations:\n",
    "            text = annotation.get(\"human_annotation\", \"\").lower()\n",
    "            contains_color = any(color in text for color in colors)\n",
    "            contain_word = \"boxes\" in text\n",
    "            \n",
    "            # 색상 정보를 포함한 경우\n",
    "            # core_data 번호 : human_annitation 문단\n",
    "            if contains_color and contain_word:\n",
    "                print(f\"{i}: '{annotation['human_annotation']}'\")\n",
    "        \n",
    "    else:\n",
    "        print(\"이미지 Id를 찾을 수 없음\")\n"
   ],
   "id": "initial_id",
   "outputs": [
    {
     "name": "stdout",
     "output_type": "stream",
     "text": [
      "1414: '1. The central focus is the skateboarder performing a trick, highlighted by the red and yellow boxes. The dynamic pose, helmet, and skateboard emphasize the action and skill involved, capturing the essence of skateboarding culture.'\n",
      "1499: '1. The top shelf features a vibrant display of breakfast items, including corn flakes and orange juice. The cereal boxes, adorned with colorful graphics, sit beside the juice gallons, creating a lively morning scene.'\n",
      "1835: '2. The plate holding the pizza is central, surrounded by the vibrant red and orange hues of the bounding boxes. The juxtaposition of the pizza's warm tones and the glass's transparency highlights the meal's inviting nature.'\n",
      "1861: '3. The lime and green boxes emphasize safety and training. The helmeted man near the orange cone suggests a focus on safety protocols, with the motorcycle and vehicle indicating a practical learning scenario in a controlled environment.'\n",
      "1897: '3. The yellow and green boxes focus on the playful interaction between the bears and the gifts. This arrangement highlights the whimsical and cheerful elements of the scene, enhancing the festive mood with a touch of fun and imagination.'\n",
      "1902: '3. The orange and blue boxes focus on safety and shelter. The helmeted individual represents protection in a busy environment, while the awning offers a shaded retreat, illustrating the balance between movement and rest in the city.'\n"
     ]
    }
   ],
   "execution_count": 24
  },
  {
   "metadata": {},
   "cell_type": "code",
   "outputs": [],
   "execution_count": null,
   "source": "",
   "id": "1f4ff36b87781b3a"
  }
 ],
 "metadata": {
  "kernelspec": {
   "display_name": "Python 3",
   "language": "python",
   "name": "python3"
  },
  "language_info": {
   "codemirror_mode": {
    "name": "ipython",
    "version": 2
   },
   "file_extension": ".py",
   "mimetype": "text/x-python",
   "name": "python",
   "nbconvert_exporter": "python",
   "pygments_lexer": "ipython2",
   "version": "2.7.6"
  }
 },
 "nbformat": 4,
 "nbformat_minor": 5
}
