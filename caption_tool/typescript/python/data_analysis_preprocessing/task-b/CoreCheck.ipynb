{
 "cells": [
  {
   "metadata": {
    "collapsed": true,
    "ExecuteTime": {
     "end_time": "2024-12-21T12:59:41.540269Z",
     "start_time": "2024-12-21T12:59:41.522361Z"
    }
   },
   "cell_type": "code",
   "source": [
    "# human_annotation 에 색상에 관련된 문장이 있는지 출력하는 코드\n",
    "\n",
    "import json\n",
    "import os\n",
    "\n",
    "colors = [\"red\", \"orange\", \"yellow\", \"lime\", \"green\", \"aqua\", \"blue\", \"navy\"]\n",
    "\n",
    "# json 파일 이미지 번호\n",
    "for i in range(1355, 1355):\n",
    "    # file_path = f'../../../front/public/json/coreJson/core_{i}.json'\n",
    "    file_path = f'/Users/ihyeonjeong/workspace/KiLab/DataSet/core_1355~2364/core_{i}.json'\n",
    "    if not os.path.exists(file_path):\n",
    "        continue\n",
    "    \n",
    "    try :\n",
    "        with open(file_path, 'r', encoding='utf-8') as f:\n",
    "            data = json.load(f)\n",
    "            \n",
    "        top_level_id = next(iter(data.keys()), None)\n",
    "        \n",
    "        if top_level_id:\n",
    "            human_annotations = data.get(top_level_id, {}).get(\"relation_centric_regions\", {}).get(\"human_annotations\", [])\n",
    "            \n",
    "            for annotation in human_annotations:\n",
    "                text = annotation.get(\"human_annotation\", \"\").lower()\n",
    "                contains_color = any(color in text for color in colors)\n",
    "                boxes = \"boxes\" in text\n",
    "                box = \"box\" in text\n",
    "                # 색상 정보를 포함한 경우\n",
    "                # core_data 번호 : human_annitation 문단\n",
    "                if contains_color and boxes and box:\n",
    "                    print(f\"{i}: '{annotation['human_annotation']}'\")\n",
    "            \n",
    "        else:\n",
    "            print(\"이미지 Id를 찾을 수 없음\")\n",
    "            \n",
    "    except json.JSONDecodeError as e:\n",
    "        print(f\"JSONDecodeError in file {file_path}: {e}\")\n",
    "        continue\n",
    "        "
   ],
   "id": "initial_id",
   "outputs": [],
   "execution_count": 1
  },
  {
   "metadata": {
    "ExecuteTime": {
     "end_time": "2024-12-21T12:59:57.347642Z",
     "start_time": "2024-12-21T12:59:57.334658Z"
    }
   },
   "cell_type": "code",
   "source": [
    "# 빠진 데이터를 찾아내는 코드\n",
    "\n",
    "import os\n",
    "\n",
    "# json 파일 이미지 번호가 없는 파일을 추적할 리스트\n",
    "missing_files = []\n",
    "\n",
    "# 파일 경로 확인 및 파일 없는 경우 목록에 추가\n",
    "for i in range(3375, 3375):\n",
    "    file_path = f'/Users/ihyeonjeong/workspace/KiLab/caption_tool/caption_tool/typescript/front/public/json/coreJson/core_{1}.json'\n",
    "    \n",
    "    if not os.path.exists(file_path):\n",
    "        missing_files.append(i)\n",
    "\n",
    "# 결과 출력\n",
    "print(missing_files)\n",
    "print(len(missing_files))"
   ],
   "id": "1f4ff36b87781b3a",
   "outputs": [
    {
     "name": "stdout",
     "output_type": "stream",
     "text": [
      "[]\n",
      "0\n"
     ]
    }
   ],
   "execution_count": 3
  },
  {
   "metadata": {},
   "cell_type": "code",
   "outputs": [],
   "execution_count": null,
   "source": "",
   "id": "e3d6fb852c3f0ecb"
  }
 ],
 "metadata": {
  "kernelspec": {
   "display_name": "Python 3",
   "language": "python",
   "name": "python3"
  },
  "language_info": {
   "codemirror_mode": {
    "name": "ipython",
    "version": 2
   },
   "file_extension": ".py",
   "mimetype": "text/x-python",
   "name": "python",
   "nbconvert_exporter": "python",
   "pygments_lexer": "ipython2",
   "version": "2.7.6"
  }
 },
 "nbformat": 4,
 "nbformat_minor": 5
}
