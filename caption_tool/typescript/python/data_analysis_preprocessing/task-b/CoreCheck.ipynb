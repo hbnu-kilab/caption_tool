{
 "cells": [
  {
   "metadata": {
    "collapsed": true,
    "ExecuteTime": {
     "end_time": "2024-11-07T12:08:23.500039Z",
     "start_time": "2024-11-07T12:08:23.492646Z"
    }
   },
   "cell_type": "code",
   "source": [
    "# human_annotation 에 색상에 관련된 문장이 있는지 출력하는 코드\n",
    "\n",
    "import json\n",
    "\n",
    "# List of colors to check\n",
    "colors = [\n",
    "    \"red\", \"orange\", \"yellow\", \"lime\", \"green\", \"aqua\", \"blue\", \"navy\", \"fuchsia\", \"white\", \"tomato\",\n",
    "    \"black\", \"peru\", \"pink\", \"salmon\", \"wheat\", \"violet\", \"khaki\", \"purple\", \n",
    "    \"plum\", \"firebrick\", \"tan\", \"coral\", \"brown\", \"gray\", \"hotpink\", \"gold\", \"teal\"\n",
    "]\n",
    "\n",
    "# Iterate over specific JSON file identifiers\n",
    "for i in [1, 5]:\n",
    "    file_path = f'../../../front/public/json/coreJson/core_{i}.json'\n",
    "    \n",
    "    # Open and load the JSON data\n",
    "    with open(file_path, 'r', encoding='utf-8') as f:\n",
    "        data = json.load(f)\n",
    "        \n",
    "    # Find the first key dynamically (assuming the structure has a unique top-level key)\n",
    "    top_level_id = next(iter(data.keys()), None)\n",
    "    \n",
    "    if top_level_id:\n",
    "        # Extract human annotations\n",
    "        human_annotations = data.get(top_level_id, {}).get(\"relation_centric_regions\", {}).get(\"human_annotations\", [])\n",
    "        \n",
    "        # Check if any of the colors are present in human annotations\n",
    "        for annotation in human_annotations:\n",
    "            text = annotation.get(\"human_annotation\", \"\").lower()\n",
    "            contains_color = any(color in text for color in colors)\n",
    "            \n",
    "            # 색상 정보를 포함한 경우\n",
    "            if contains_color:\n",
    "                print(f\"{i}: '{annotation['human_annotation']}'\")\n",
    "        \n",
    "    else:\n",
    "        print(\"이미지 Id를 찾을 수 없음\")\n"
   ],
   "id": "initial_id",
   "outputs": [
    {
     "name": "stdout",
     "output_type": "stream",
     "text": [
      "1: '1. The red and yellow boxes encompass a bustling urban scene, highlighting the towering buildings and street signs. This area captures the essence of city life, with its mix of architecture and essential navigation aids for pedestrians and drivers.'\n",
      "1: '2. The orange and blue boxes focus on the street signs, which are crucial for guiding traffic and pedestrians. These signs stand out against the backdrop of the city, providing necessary information and direction amidst the urban landscape.'\n",
      "1: '3. The lime and aqua boxes emphasize the architectural elements of the buildings. These structures, with their varied designs and windows, contribute to the city's skyline, showcasing a blend of modern and traditional architectural styles.'\n",
      "5: '1. The scene captures a paddle boarder in a life jacket, standing on a pebbled beach. The surfboard and ocean waves create a dynamic interaction, highlighting the adventurous spirit against the serene backdrop of the sea.'\n",
      "5: '2. A wooden pier extends into the ocean, with an amusement park structure visible in the distance. The juxtaposition of the pier and roller coaster adds a playful element to the coastal landscape, inviting exploration and leisure.'\n"
     ]
    }
   ],
   "execution_count": 15
  }
 ],
 "metadata": {
  "kernelspec": {
   "display_name": "Python 3",
   "language": "python",
   "name": "python3"
  },
  "language_info": {
   "codemirror_mode": {
    "name": "ipython",
    "version": 2
   },
   "file_extension": ".py",
   "mimetype": "text/x-python",
   "name": "python",
   "nbconvert_exporter": "python",
   "pygments_lexer": "ipython2",
   "version": "2.7.6"
  }
 },
 "nbformat": 4,
 "nbformat_minor": 5
}
