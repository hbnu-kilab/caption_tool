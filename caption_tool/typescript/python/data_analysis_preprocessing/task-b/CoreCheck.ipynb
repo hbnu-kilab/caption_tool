{
 "cells": [
  {
   "metadata": {
    "collapsed": true,
    "ExecuteTime": {
     "end_time": "2024-12-19T09:22:07.070807Z",
     "start_time": "2024-12-19T09:22:06.859921Z"
    }
   },
   "cell_type": "code",
   "source": [
    "# human_annotation 에 색상에 관련된 문장이 있는지 출력하는 코드\n",
    "\n",
    "import json\n",
    "import os\n",
    "\n",
    "colors = [\"red\", \"orange\", \"yellow\", \"lime\", \"green\", \"aqua\", \"blue\", \"navy\"]\n",
    "\n",
    "# json 파일 이미지 번호\n",
    "for i in range(1355, 2365):\n",
    "    # file_path = f'../../../front/public/json/coreJson/core_{i}.json'\n",
    "    file_path = f'/Users/ihyeonjeong/workspace/KiLab/DataSet/core_1355~2364/core_{i}.json'\n",
    "    if not os.path.exists(file_path):\n",
    "        continue\n",
    "    \n",
    "    try :\n",
    "        with open(file_path, 'r', encoding='utf-8') as f:\n",
    "            data = json.load(f)\n",
    "            \n",
    "        top_level_id = next(iter(data.keys()), None)\n",
    "        \n",
    "        if top_level_id:\n",
    "            human_annotations = data.get(top_level_id, {}).get(\"relation_centric_regions\", {}).get(\"human_annotations\", [])\n",
    "            \n",
    "            for annotation in human_annotations:\n",
    "                text = annotation.get(\"human_annotation\", \"\").lower()\n",
    "                contains_color = any(color in text for color in colors)\n",
    "                boxes = \"boxes\" in text\n",
    "                box = \"box\" in text\n",
    "                # 색상 정보를 포함한 경우\n",
    "                # core_data 번호 : human_annitation 문단\n",
    "                if contains_color and boxes and box:\n",
    "                    print(f\"{i}: '{annotation['human_annotation']}'\")\n",
    "            \n",
    "        else:\n",
    "            print(\"이미지 Id를 찾을 수 없음\")\n",
    "            \n",
    "    except json.JSONDecodeError as e:\n",
    "        print(f\"JSONDecodeError in file {file_path}: {e}\")\n",
    "        continue\n",
    "        "
   ],
   "id": "initial_id",
   "outputs": [
    {
     "name": "stdout",
     "output_type": "stream",
     "text": [
      "1374: '2. This image encompasses multiple skiers, indicating a group enjoying the snowy landscape. This collective scene contrasts with the individual focus of the red and orange boxes, showcasing a communal winter sports experience.'\n",
      "1408: '2. This image boxes capture the competitive atmosphere, with multiple participants and markers guiding the course. This setup underscores the organized nature of the event and the focus required to navigate the snowy terrain.'\n",
      "1665: '1. The red and orange boxes highlight the dynamic interaction between players and their attire. The focus is on the players' movements, emphasizing the connection between their actions and the surrounding environment, including trees and spectators.'\n",
      "1665: '2. The lime and green boxes capture the synergy between the player and her equipment. The racket and shoes are essential for performance, showcasing the importance of gear in enhancing athletic ability and movement on the court.'\n",
      "1665: '3. The aqua and navy boxes emphasize the relationship between the audience and the players. Spectators' presence adds context to the scene, highlighting the social aspect of the event and the players' engagement with their surroundings.'\n",
      "1716: '1. The red and orange boxes highlight the upper body and environment, focusing on the cap, hair, and hat, along with the racket, court, and fence. This emphasizes the player's readiness and the setting's dynamic nature.'\n",
      "1716: '2. The green and lime boxes capture the player's interaction with the racket and court. This combination showcases the player's stance and the pivotal moment of the game, highlighting the synergy between the player and equipment.'\n",
      "1716: '3. The aqua and navy boxes focus on the player's shoes and lower body movement. This illustrates the agility and footwork essential for effective play, emphasizing the player's balance and swift motion on the court.'\n",
      "2005: '1. The red and orange boxes highlight the player's hat and her active stance, emphasizing her focus and readiness on the tennis court. This perspective captures the dynamic interaction between the player and her equipment.'\n",
      "2005: '2. The yellow and green boxes encompass the lady, her tennis racket, and her poised position. This object-oriented view showcases the synergy between the player and her gear, highlighting her athletic form and the sport's intensity.'\n",
      "2005: '3. The lime and blue boxes illustrate the player's wristband and the tennis court, underscoring the connection between her physical preparation and the playing environment. This combination emphasizes the importance of both personal gear and the court setting.'\n",
      "2107: '1. The red and yellow boxes highlight the interaction between the man and the cat. The man's relaxed posture and the cat's presence create a serene atmosphere, emphasizing companionship and tranquility on the porch.'\n",
      "2107: '2. The orange and green boxes focus on the man's facial features and hair. His glasses and hairstyle contribute to his distinct appearance, capturing a moment of contemplation and comfort in the outdoor setting.'\n",
      "2107: '3. The lime and red boxes showcase the man's attire and the surrounding environment. The shirt and sleeve details, along with the fence, frame a casual and inviting scene, enhancing the overall warmth of the image.'\n",
      "2250: '1. The red and navy boxes highlight the dynamic interaction between the players and the court. The fence and pole provide a structured backdrop, emphasizing the competitive atmosphere and the players' focus on the game.'\n",
      "2250: '2. The lime and green boxes capture the synergy between the player and his equipment. The racket and cap are essential elements, showcasing the player's readiness and style, contributing to the overall sports theme.'\n",
      "2250: '3. The orange and yellow boxes focus on the players' attire, emphasizing the uniformity and team spirit. The shorts and shirts are not just functional but also symbolize the unity and identity of the team on the court.'\n",
      "2345: '2. The yellow and aqua boxes capture the lower body movement and footwear of the player. The girl's legs and shoes suggest agility and readiness, essential for her performance on the court, enhancing the scene's energetic atmosphere.'\n",
      "2345: '3. The lime and green boxes focus on the equipment and attire, showcasing the racket and skirt. These elements highlight the sport's essentials, emphasizing the player's preparation and the importance of gear in her performance.'\n"
     ]
    }
   ],
   "execution_count": 16
  },
  {
   "metadata": {},
   "cell_type": "code",
   "outputs": [],
   "execution_count": null,
   "source": [
    "file_path = f'/Users/ihyeonjeong/workspace/KiLab/DataSet/core_1355~2364/core_{i}.json'\n",
    "try:\n",
    "    with open(file_path, 'r', encoding='utf-8') as f:\n",
    "        data = json.load(f)\n",
    "except json.JSONDecodeError as e:\n",
    "    print(f\"JSONDecodeError in file {file_path}: {e}\")\n",
    "    continue"
   ],
   "id": "1d060d84e89043d5"
  },
  {
   "metadata": {
    "ExecuteTime": {
     "end_time": "2024-11-13T16:36:35.224270Z",
     "start_time": "2024-11-13T16:36:35.212559Z"
    }
   },
   "cell_type": "code",
   "source": [
    "# 빠진 데이터를 찾아내는 코드\n",
    "\n",
    "import os\n",
    "\n",
    "# json 파일 이미지 번호가 없는 파일을 추적할 리스트\n",
    "missing_files = []\n",
    "\n",
    "# 파일 경로 확인 및 파일 없는 경우 목록에 추가\n",
    "for i in range(3375, 3991):\n",
    "    file_path = f'/Users/ihyeonjeong/workspace/KiLab/caption_tool/caption_tool/typescript/front/public/json/coreJson/core_{1}.json'\n",
    "    \n",
    "    if not os.path.exists(file_path):\n",
    "        missing_files.append(i)\n",
    "\n",
    "# 결과 출력\n",
    "print(missing_files)\n",
    "print(len(missing_files))"
   ],
   "id": "1f4ff36b87781b3a",
   "outputs": [
    {
     "name": "stdout",
     "output_type": "stream",
     "text": [
      "[6395, 6454]\n",
      "2\n"
     ]
    }
   ],
   "execution_count": 10
  },
  {
   "metadata": {},
   "cell_type": "code",
   "outputs": [],
   "execution_count": null,
   "source": "",
   "id": "e3d6fb852c3f0ecb"
  }
 ],
 "metadata": {
  "kernelspec": {
   "display_name": "Python 3",
   "language": "python",
   "name": "python3"
  },
  "language_info": {
   "codemirror_mode": {
    "name": "ipython",
    "version": 2
   },
   "file_extension": ".py",
   "mimetype": "text/x-python",
   "name": "python",
   "nbconvert_exporter": "python",
   "pygments_lexer": "ipython2",
   "version": "2.7.6"
  }
 },
 "nbformat": 4,
 "nbformat_minor": 5
}
