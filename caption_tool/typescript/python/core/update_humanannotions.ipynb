{
 "cells": [
  {
   "cell_type": "code",
   "execution_count": 20,
   "metadata": {},
   "outputs": [
    {
     "name": "stdout",
     "output_type": "stream",
     "text": [
      "3. There is constrast between  the sky with the tower's silhouette. This juxtaposition accentuates the tower's prominence against the night sky, creating a dramatic visual impact that highlights the structure's height and elegance.\n"
     ]
    }
   ],
   "source": [
    "import json\n",
    "import traceback\n",
    "import re\n",
    "\n",
    "def update_paragraph(num):\n",
    "    # 경로 넣기\n",
    "    core_path = f\"C:\\\\workplace\\\\Kilab\\\\git\\\\caption_tool\\\\typescript\\\\front\\\\public\\\\json\\\\coreJson\\\\core_{num}.json\"\n",
    "    \n",
    "    try:\n",
    "        with open(core_path, 'r', encoding='utf-8') as file:\n",
    "            data = json.load(file)\n",
    "        VGID = list(data.keys())[0]\n",
    "        human_annotations = data[VGID][\"relation_centric_regions\"][\"human_annotations\"]\n",
    "        for idx, human_annotation in enumerate(human_annotations):\n",
    "            text = human_annotation[\"human_annotation\"]            \n",
    "            pattern1 = r\"The \\w+ and \\w+ boxes highlight\"\n",
    "            pattern2 = r\"The \\w+ and \\w+ boxes capture\"\n",
    "            pattern3 = r\"The \\w+ and \\w+ boxes frame\"\n",
    "            pattern4 = r\"The \\w+ and \\w+ boxes together focus on\"\n",
    "            pattern5 = r\"The \\w+ and \\w+ boxes encompass\"\n",
    "            pattern6 = r\"The \\w+ and \\w+ boxes emphasize\"\n",
    "            pattern8 = r\"The \\w+ and \\w+ boxes illustrate\"\n",
    "            \n",
    "            pattern7 = r\"The \\w+ box encompasses\"\n",
    "            pattern9 = r\" in the \\w+ box\"\n",
    "            replacement = \"Look at\"\n",
    "\n",
    "            # 치환\n",
    "            if re.search(pattern1, text):\n",
    "                result = re.sub(pattern1, replacement, text)\n",
    "                print(result)\n",
    "                data[VGID][\"relation_centric_regions\"][\"human_annotations\"][idx][\"human_annotation\"] = result\n",
    "            elif re.search(pattern2, text):\n",
    "                result = re.sub(pattern2, \"There are\", text)\n",
    "                print(result)\n",
    "                data[VGID][\"relation_centric_regions\"][\"human_annotations\"][idx][\"human_annotation\"] = result\n",
    "            elif re.search(pattern3, text):\n",
    "                result = re.sub(pattern3, \"There are\", text)\n",
    "                print(result)\n",
    "                data[VGID][\"relation_centric_regions\"][\"human_annotations\"][idx][\"human_annotation\"] = result\n",
    "            elif re.search(pattern4, text):\n",
    "                result = re.sub(pattern4, \"There are\", text)\n",
    "                print(result)\n",
    "                data[VGID][\"relation_centric_regions\"][\"human_annotations\"][idx][\"human_annotation\"] = result\n",
    "            elif re.search(pattern5, text):\n",
    "                result = re.sub(pattern5, \"There are\", text)\n",
    "                print(result)\n",
    "                data[VGID][\"relation_centric_regions\"][\"human_annotations\"][idx][\"human_annotation\"] = result\n",
    "            elif re.search(pattern6, text):\n",
    "                result = re.sub(pattern6, \"There are\", text)\n",
    "                print(result)\n",
    "                data[VGID][\"relation_centric_regions\"][\"human_annotations\"][idx][\"human_annotation\"] = result\n",
    "            elif re.search(pattern8, text):\n",
    "                result = re.sub(pattern8, \"There are\", text)\n",
    "                print(result)\n",
    "                data[VGID][\"relation_centric_regions\"][\"human_annotations\"][idx][\"human_annotation\"] = result\n",
    "            elif re.search(pattern7, text):\n",
    "                result = re.sub(pattern7, \"There is\", text)\n",
    "                print(result)\n",
    "                data[VGID][\"relation_centric_regions\"][\"human_annotations\"][idx][\"human_annotation\"] = result\n",
    "            elif re.search(pattern9, text):\n",
    "                result = re.sub(pattern9, \"\", text)\n",
    "                print(result)\n",
    "                data[VGID][\"relation_centric_regions\"][\"human_annotations\"][idx][\"human_annotation\"] = result\n",
    "            elif re.search(r\"The \\w+ and \\w+ boxes contrast\", text):\n",
    "                result = re.sub(r\"The \\w+ and \\w+ boxes contrast\", \"There is constrast between\", text)\n",
    "                print(result)\n",
    "                data[VGID][\"relation_centric_regions\"][\"human_annotations\"][idx][\"human_annotation\"] = result\n",
    "            \n",
    "        with open(core_path, 'w', encoding='utf-8') as file:\n",
    "            json.dump(data, file, indent=4)\n",
    "    except:\n",
    "        print(traceback.format_exc)\n",
    "\n",
    "for i in range(1621, 1702): update_paragraph(i)"
   ]
  },
  {
   "cell_type": "code",
   "execution_count": null,
   "metadata": {},
   "outputs": [],
   "source": []
  },
  {
   "cell_type": "code",
   "execution_count": null,
   "metadata": {},
   "outputs": [],
   "source": []
  }
 ],
 "metadata": {
  "kernelspec": {
   "display_name": "Python 3",
   "language": "python",
   "name": "python3"
  },
  "language_info": {
   "codemirror_mode": {
    "name": "ipython",
    "version": 3
   },
   "file_extension": ".py",
   "mimetype": "text/x-python",
   "name": "python",
   "nbconvert_exporter": "python",
   "pygments_lexer": "ipython3",
   "version": "3.11.4"
  }
 },
 "nbformat": 4,
 "nbformat_minor": 2
}
